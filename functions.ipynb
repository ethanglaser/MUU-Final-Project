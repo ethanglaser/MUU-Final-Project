{
 "cells": [
  {
   "cell_type": "code",
   "execution_count": 3,
   "metadata": {
    "collapsed": true
   },
   "outputs": [],
   "source": [
    "import numpy as np"
   ]
  },
  {
   "cell_type": "code",
   "execution_count": 12,
   "outputs": [],
   "source": [
    "import pandas as pd\n",
    "\n",
    "def create_tm(capacity, activity):\n",
    "    tm = n_trans = np.zeros([capacity+1,capacity+1])\n",
    "    current_state = 0\n",
    "\n",
    "    freq = {}\n",
    "    for delta in activity:\n",
    "        freq[delta] = activity.count(delta)\n",
    "\n",
    "    for state in range(capacity+1):\n",
    "        for delta in freq:\n",
    "            if delta < 0 and -delta <= state:\n",
    "                n_trans[state,state+delta] = freq[delta]\n",
    "            elif delta > 0 and delta + state <= capacity:\n",
    "                n_trans[state,state+delta] = freq[delta]\n",
    "        n_trans[state,state] = freq[0]\n",
    "\n",
    "    for state in range(capacity+1):\n",
    "        row_sum = np.sum(n_trans[state,:])\n",
    "        for end_state in range(capacity+1):\n",
    "            tm[state,end_state] = n_trans[state,end_state]/row_sum\n",
    "\n",
    "    return tm"
   ],
   "metadata": {
    "collapsed": false,
    "pycharm": {
     "name": "#%%\n"
    }
   }
  },
  {
   "cell_type": "code",
   "execution_count": 14,
   "outputs": [
    {
     "data": {
      "text/plain": "          0     1         2         3         4         5\n0  0.500000  0.25  0.250000  0.000000  0.000000  0.000000\n1  0.200000  0.40  0.200000  0.200000  0.000000  0.000000\n2  0.000000  0.20  0.400000  0.200000  0.200000  0.000000\n3  0.166667  0.00  0.166667  0.333333  0.166667  0.166667\n4  0.000000  0.20  0.000000  0.200000  0.400000  0.200000\n5  0.000000  0.00  0.250000  0.000000  0.250000  0.500000",
      "text/html": "<div>\n<style scoped>\n    .dataframe tbody tr th:only-of-type {\n        vertical-align: middle;\n    }\n\n    .dataframe tbody tr th {\n        vertical-align: top;\n    }\n\n    .dataframe thead th {\n        text-align: right;\n    }\n</style>\n<table border=\"1\" class=\"dataframe\">\n  <thead>\n    <tr style=\"text-align: right;\">\n      <th></th>\n      <th>0</th>\n      <th>1</th>\n      <th>2</th>\n      <th>3</th>\n      <th>4</th>\n      <th>5</th>\n    </tr>\n  </thead>\n  <tbody>\n    <tr>\n      <th>0</th>\n      <td>0.500000</td>\n      <td>0.25</td>\n      <td>0.250000</td>\n      <td>0.000000</td>\n      <td>0.000000</td>\n      <td>0.000000</td>\n    </tr>\n    <tr>\n      <th>1</th>\n      <td>0.200000</td>\n      <td>0.40</td>\n      <td>0.200000</td>\n      <td>0.200000</td>\n      <td>0.000000</td>\n      <td>0.000000</td>\n    </tr>\n    <tr>\n      <th>2</th>\n      <td>0.000000</td>\n      <td>0.20</td>\n      <td>0.400000</td>\n      <td>0.200000</td>\n      <td>0.200000</td>\n      <td>0.000000</td>\n    </tr>\n    <tr>\n      <th>3</th>\n      <td>0.166667</td>\n      <td>0.00</td>\n      <td>0.166667</td>\n      <td>0.333333</td>\n      <td>0.166667</td>\n      <td>0.166667</td>\n    </tr>\n    <tr>\n      <th>4</th>\n      <td>0.000000</td>\n      <td>0.20</td>\n      <td>0.000000</td>\n      <td>0.200000</td>\n      <td>0.400000</td>\n      <td>0.200000</td>\n    </tr>\n    <tr>\n      <th>5</th>\n      <td>0.000000</td>\n      <td>0.00</td>\n      <td>0.250000</td>\n      <td>0.000000</td>\n      <td>0.250000</td>\n      <td>0.500000</td>\n    </tr>\n  </tbody>\n</table>\n</div>"
     },
     "execution_count": 14,
     "metadata": {},
     "output_type": "execute_result"
    }
   ],
   "source": [
    "a = [-1,0,-3,1,2,0]\n",
    "pd.DataFrame(create_tm(5, a))\n",
    "\n"
   ],
   "metadata": {
    "collapsed": false,
    "pycharm": {
     "name": "#%%\n"
    }
   }
  }
 ],
 "metadata": {
  "kernelspec": {
   "display_name": "Python 3",
   "language": "python",
   "name": "python3"
  },
  "language_info": {
   "codemirror_mode": {
    "name": "ipython",
    "version": 2
   },
   "file_extension": ".py",
   "mimetype": "text/x-python",
   "name": "python",
   "nbconvert_exporter": "python",
   "pygments_lexer": "ipython2",
   "version": "2.7.6"
  }
 },
 "nbformat": 4,
 "nbformat_minor": 0
}
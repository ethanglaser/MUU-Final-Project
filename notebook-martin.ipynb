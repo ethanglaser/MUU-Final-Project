{
 "cells": [
  {
   "cell_type": "code",
   "execution_count": 1,
   "metadata": {
    "collapsed": true
   },
   "outputs": [],
   "source": [
    "import pandas as pd"
   ]
  },
  {
   "cell_type": "code",
   "execution_count": 2,
   "outputs": [
    {
     "name": "stderr",
     "output_type": "stream",
     "text": [
      "c:\\users\\marti\\pycharmprojects\\muu-final-project\\venv\\lib\\site-packages\\IPython\\core\\interactiveshell.py:3444: DtypeWarning: Columns (7) have mixed types.Specify dtype option on import or set low_memory=False.\n",
      "  exec(code_obj, self.user_global_ns, self.user_ns)\n"
     ]
    }
   ],
   "source": [
    "df = pd.read_csv(r'202107-citibike-tripdata.csv/202107-citibike-tripdata.csv')"
   ],
   "metadata": {
    "collapsed": false,
    "pycharm": {
     "name": "#%%\n"
    }
   }
  },
  {
   "cell_type": "code",
   "execution_count": 9,
   "outputs": [
    {
     "name": "stdout",
     "output_type": "stream",
     "text": [
      "<class 'pandas.core.frame.DataFrame'>\n",
      "RangeIndex: 3084537 entries, 0 to 3084536\n",
      "Data columns (total 13 columns):\n",
      " #   Column              Dtype  \n",
      "---  ------              -----  \n",
      " 0   ride_id             object \n",
      " 1   rideable_type       object \n",
      " 2   started_at          object \n",
      " 3   ended_at            object \n",
      " 4   start_station_name  object \n",
      " 5   start_station_id    float64\n",
      " 6   end_station_name    object \n",
      " 7   end_station_id      object \n",
      " 8   start_lat           float64\n",
      " 9   start_lng           float64\n",
      " 10  end_lat             float64\n",
      " 11  end_lng             float64\n",
      " 12  member_casual       object \n",
      "dtypes: float64(5), object(8)\n",
      "memory usage: 305.9+ MB\n"
     ]
    }
   ],
   "source": [
    "df.info()"
   ],
   "metadata": {
    "collapsed": false,
    "pycharm": {
     "name": "#%%\n"
    }
   }
  },
  {
   "cell_type": "code",
   "execution_count": 3,
   "outputs": [
    {
     "data": {
      "text/plain": "            ride_id rideable_type           started_at             ended_at  \\\n0  247BA541A9674BF3  classic_bike  2021-07-09 16:05:36  2021-07-09 16:18:09   \n1  125C9ACA270A5E2D  classic_bike  2021-07-11 16:23:35  2021-07-11 16:29:07   \n2  2E26264BCC15BA05  classic_bike  2021-07-23 06:22:40  2021-07-23 06:36:13   \n3  A56D23A088563424  classic_bike  2021-07-05 16:08:10  2021-07-05 16:36:00   \n4  1451F4BB884C5335  classic_bike  2021-07-26 12:28:57  2021-07-26 12:30:21   \n\n     start_station_name  start_station_id                    end_station_name  \\\n0       5 Ave & E 93 St           7372.10  Frederick Douglass Blvd & W 117 St   \n1       5 Ave & E 93 St           7372.10                  E 88 St & Park Ave   \n2        34 St & 38 Ave           6453.02          McGuinness Blvd & Eagle St   \n3  Lenox Ave & W 111 St           7602.05                     5 Ave & E 78 St   \n4     6 Ave & Broome St           5610.09                    6 Ave & Canal St   \n\n  end_station_id  start_lat  start_lng    end_lat    end_lng member_casual  \n0        7688.12  40.785785 -73.957481  40.805159 -73.954692        member  \n1        7293.10  40.785785 -73.957481  40.781411 -73.955959        member  \n2        5977.01  40.752443 -73.929737  40.735550 -73.952840        member  \n3        7161.08  40.798786 -73.952300  40.776321 -73.964274        casual  \n4        5500.07  40.724310 -74.004730  40.722438 -74.005664        casual  ",
      "text/html": "<div>\n<style scoped>\n    .dataframe tbody tr th:only-of-type {\n        vertical-align: middle;\n    }\n\n    .dataframe tbody tr th {\n        vertical-align: top;\n    }\n\n    .dataframe thead th {\n        text-align: right;\n    }\n</style>\n<table border=\"1\" class=\"dataframe\">\n  <thead>\n    <tr style=\"text-align: right;\">\n      <th></th>\n      <th>ride_id</th>\n      <th>rideable_type</th>\n      <th>started_at</th>\n      <th>ended_at</th>\n      <th>start_station_name</th>\n      <th>start_station_id</th>\n      <th>end_station_name</th>\n      <th>end_station_id</th>\n      <th>start_lat</th>\n      <th>start_lng</th>\n      <th>end_lat</th>\n      <th>end_lng</th>\n      <th>member_casual</th>\n    </tr>\n  </thead>\n  <tbody>\n    <tr>\n      <th>0</th>\n      <td>247BA541A9674BF3</td>\n      <td>classic_bike</td>\n      <td>2021-07-09 16:05:36</td>\n      <td>2021-07-09 16:18:09</td>\n      <td>5 Ave &amp; E 93 St</td>\n      <td>7372.10</td>\n      <td>Frederick Douglass Blvd &amp; W 117 St</td>\n      <td>7688.12</td>\n      <td>40.785785</td>\n      <td>-73.957481</td>\n      <td>40.805159</td>\n      <td>-73.954692</td>\n      <td>member</td>\n    </tr>\n    <tr>\n      <th>1</th>\n      <td>125C9ACA270A5E2D</td>\n      <td>classic_bike</td>\n      <td>2021-07-11 16:23:35</td>\n      <td>2021-07-11 16:29:07</td>\n      <td>5 Ave &amp; E 93 St</td>\n      <td>7372.10</td>\n      <td>E 88 St &amp; Park Ave</td>\n      <td>7293.10</td>\n      <td>40.785785</td>\n      <td>-73.957481</td>\n      <td>40.781411</td>\n      <td>-73.955959</td>\n      <td>member</td>\n    </tr>\n    <tr>\n      <th>2</th>\n      <td>2E26264BCC15BA05</td>\n      <td>classic_bike</td>\n      <td>2021-07-23 06:22:40</td>\n      <td>2021-07-23 06:36:13</td>\n      <td>34 St &amp; 38 Ave</td>\n      <td>6453.02</td>\n      <td>McGuinness Blvd &amp; Eagle St</td>\n      <td>5977.01</td>\n      <td>40.752443</td>\n      <td>-73.929737</td>\n      <td>40.735550</td>\n      <td>-73.952840</td>\n      <td>member</td>\n    </tr>\n    <tr>\n      <th>3</th>\n      <td>A56D23A088563424</td>\n      <td>classic_bike</td>\n      <td>2021-07-05 16:08:10</td>\n      <td>2021-07-05 16:36:00</td>\n      <td>Lenox Ave &amp; W 111 St</td>\n      <td>7602.05</td>\n      <td>5 Ave &amp; E 78 St</td>\n      <td>7161.08</td>\n      <td>40.798786</td>\n      <td>-73.952300</td>\n      <td>40.776321</td>\n      <td>-73.964274</td>\n      <td>casual</td>\n    </tr>\n    <tr>\n      <th>4</th>\n      <td>1451F4BB884C5335</td>\n      <td>classic_bike</td>\n      <td>2021-07-26 12:28:57</td>\n      <td>2021-07-26 12:30:21</td>\n      <td>6 Ave &amp; Broome St</td>\n      <td>5610.09</td>\n      <td>6 Ave &amp; Canal St</td>\n      <td>5500.07</td>\n      <td>40.724310</td>\n      <td>-74.004730</td>\n      <td>40.722438</td>\n      <td>-74.005664</td>\n      <td>casual</td>\n    </tr>\n  </tbody>\n</table>\n</div>"
     },
     "execution_count": 3,
     "metadata": {},
     "output_type": "execute_result"
    }
   ],
   "source": [
    "df.head()"
   ],
   "metadata": {
    "collapsed": false,
    "pycharm": {
     "name": "#%%\n"
    }
   }
  },
  {
   "cell_type": "code",
   "execution_count": 7,
   "outputs": [],
   "source": [
    "df_reduced = df.drop(['rideable_type','start_lat','start_lng','end_lat','end_lng','member_casual'], axis=1)"
   ],
   "metadata": {
    "collapsed": false,
    "pycharm": {
     "name": "#%%\n"
    }
   }
  },
  {
   "cell_type": "code",
   "execution_count": 15,
   "outputs": [],
   "source": [
    "df_reduced.loc[df_reduced['start_station_id'] == 5980.07, 'delta_left'] = 1"
   ],
   "metadata": {
    "collapsed": false,
    "pycharm": {
     "name": "#%%\n"
    }
   }
  },
  {
   "cell_type": "code",
   "execution_count": 17,
   "outputs": [
    {
     "ename": "TypeError",
     "evalue": "Only valid with DatetimeIndex, TimedeltaIndex or PeriodIndex, but got an instance of 'Index'",
     "output_type": "error",
     "traceback": [
      "\u001B[1;31m---------------------------------------------------------------------------\u001B[0m",
      "\u001B[1;31mTypeError\u001B[0m                                 Traceback (most recent call last)",
      "\u001B[1;32m~\\AppData\\Local\\Temp/ipykernel_11072/4116154623.py\u001B[0m in \u001B[0;36m<module>\u001B[1;34m\u001B[0m\n\u001B[1;32m----> 1\u001B[1;33m \u001B[0mdf_reduced\u001B[0m\u001B[1;33m.\u001B[0m\u001B[0mgroupby\u001B[0m\u001B[1;33m(\u001B[0m\u001B[0mpd\u001B[0m\u001B[1;33m.\u001B[0m\u001B[0mGrouper\u001B[0m\u001B[1;33m(\u001B[0m\u001B[0mkey\u001B[0m\u001B[1;33m=\u001B[0m\u001B[1;34m'started_at'\u001B[0m\u001B[1;33m,\u001B[0m \u001B[0mfreq\u001B[0m\u001B[1;33m=\u001B[0m\u001B[1;34m'10Min'\u001B[0m\u001B[1;33m,\u001B[0m \u001B[0morigin\u001B[0m\u001B[1;33m=\u001B[0m\u001B[1;34m'epoch'\u001B[0m\u001B[1;33m)\u001B[0m\u001B[1;33m)\u001B[0m\u001B[1;33m\u001B[0m\u001B[1;33m\u001B[0m\u001B[0m\n\u001B[0m",
      "\u001B[1;32mc:\\users\\marti\\pycharmprojects\\muu-final-project\\venv\\lib\\site-packages\\pandas\\core\\frame.py\u001B[0m in \u001B[0;36mgroupby\u001B[1;34m(self, by, axis, level, as_index, sort, group_keys, squeeze, observed, dropna)\u001B[0m\n\u001B[0;32m   7629\u001B[0m         \u001B[1;31m# error: Argument \"squeeze\" to \"DataFrameGroupBy\" has incompatible type\u001B[0m\u001B[1;33m\u001B[0m\u001B[1;33m\u001B[0m\u001B[1;33m\u001B[0m\u001B[0m\n\u001B[0;32m   7630\u001B[0m         \u001B[1;31m# \"Union[bool, NoDefault]\"; expected \"bool\"\u001B[0m\u001B[1;33m\u001B[0m\u001B[1;33m\u001B[0m\u001B[1;33m\u001B[0m\u001B[0m\n\u001B[1;32m-> 7631\u001B[1;33m         return DataFrameGroupBy(\n\u001B[0m\u001B[0;32m   7632\u001B[0m             \u001B[0mobj\u001B[0m\u001B[1;33m=\u001B[0m\u001B[0mself\u001B[0m\u001B[1;33m,\u001B[0m\u001B[1;33m\u001B[0m\u001B[1;33m\u001B[0m\u001B[0m\n\u001B[0;32m   7633\u001B[0m             \u001B[0mkeys\u001B[0m\u001B[1;33m=\u001B[0m\u001B[0mby\u001B[0m\u001B[1;33m,\u001B[0m\u001B[1;33m\u001B[0m\u001B[1;33m\u001B[0m\u001B[0m\n",
      "\u001B[1;32mc:\\users\\marti\\pycharmprojects\\muu-final-project\\venv\\lib\\site-packages\\pandas\\core\\groupby\\groupby.py\u001B[0m in \u001B[0;36m__init__\u001B[1;34m(self, obj, keys, axis, level, grouper, exclusions, selection, as_index, sort, group_keys, squeeze, observed, mutated, dropna)\u001B[0m\n\u001B[0;32m    887\u001B[0m             \u001B[1;32mfrom\u001B[0m \u001B[0mpandas\u001B[0m\u001B[1;33m.\u001B[0m\u001B[0mcore\u001B[0m\u001B[1;33m.\u001B[0m\u001B[0mgroupby\u001B[0m\u001B[1;33m.\u001B[0m\u001B[0mgrouper\u001B[0m \u001B[1;32mimport\u001B[0m \u001B[0mget_grouper\u001B[0m\u001B[1;33m\u001B[0m\u001B[1;33m\u001B[0m\u001B[0m\n\u001B[0;32m    888\u001B[0m \u001B[1;33m\u001B[0m\u001B[0m\n\u001B[1;32m--> 889\u001B[1;33m             grouper, exclusions, obj = get_grouper(\n\u001B[0m\u001B[0;32m    890\u001B[0m                 \u001B[0mobj\u001B[0m\u001B[1;33m,\u001B[0m\u001B[1;33m\u001B[0m\u001B[1;33m\u001B[0m\u001B[0m\n\u001B[0;32m    891\u001B[0m                 \u001B[0mkeys\u001B[0m\u001B[1;33m,\u001B[0m\u001B[1;33m\u001B[0m\u001B[1;33m\u001B[0m\u001B[0m\n",
      "\u001B[1;32mc:\\users\\marti\\pycharmprojects\\muu-final-project\\venv\\lib\\site-packages\\pandas\\core\\groupby\\grouper.py\u001B[0m in \u001B[0;36mget_grouper\u001B[1;34m(obj, key, axis, level, sort, observed, mutated, validate, dropna)\u001B[0m\n\u001B[0;32m    762\u001B[0m     \u001B[1;31m# a passed-in Grouper, directly convert\u001B[0m\u001B[1;33m\u001B[0m\u001B[1;33m\u001B[0m\u001B[1;33m\u001B[0m\u001B[0m\n\u001B[0;32m    763\u001B[0m     \u001B[1;32mif\u001B[0m \u001B[0misinstance\u001B[0m\u001B[1;33m(\u001B[0m\u001B[0mkey\u001B[0m\u001B[1;33m,\u001B[0m \u001B[0mGrouper\u001B[0m\u001B[1;33m)\u001B[0m\u001B[1;33m:\u001B[0m\u001B[1;33m\u001B[0m\u001B[1;33m\u001B[0m\u001B[0m\n\u001B[1;32m--> 764\u001B[1;33m         \u001B[0mbinner\u001B[0m\u001B[1;33m,\u001B[0m \u001B[0mgrouper\u001B[0m\u001B[1;33m,\u001B[0m \u001B[0mobj\u001B[0m \u001B[1;33m=\u001B[0m \u001B[0mkey\u001B[0m\u001B[1;33m.\u001B[0m\u001B[0m_get_grouper\u001B[0m\u001B[1;33m(\u001B[0m\u001B[0mobj\u001B[0m\u001B[1;33m,\u001B[0m \u001B[0mvalidate\u001B[0m\u001B[1;33m=\u001B[0m\u001B[1;32mFalse\u001B[0m\u001B[1;33m)\u001B[0m\u001B[1;33m\u001B[0m\u001B[1;33m\u001B[0m\u001B[0m\n\u001B[0m\u001B[0;32m    765\u001B[0m         \u001B[1;32mif\u001B[0m \u001B[0mkey\u001B[0m\u001B[1;33m.\u001B[0m\u001B[0mkey\u001B[0m \u001B[1;32mis\u001B[0m \u001B[1;32mNone\u001B[0m\u001B[1;33m:\u001B[0m\u001B[1;33m\u001B[0m\u001B[1;33m\u001B[0m\u001B[0m\n\u001B[0;32m    766\u001B[0m             \u001B[1;32mreturn\u001B[0m \u001B[0mgrouper\u001B[0m\u001B[1;33m,\u001B[0m \u001B[0mfrozenset\u001B[0m\u001B[1;33m(\u001B[0m\u001B[1;33m)\u001B[0m\u001B[1;33m,\u001B[0m \u001B[0mobj\u001B[0m\u001B[1;33m\u001B[0m\u001B[1;33m\u001B[0m\u001B[0m\n",
      "\u001B[1;32mc:\\users\\marti\\pycharmprojects\\muu-final-project\\venv\\lib\\site-packages\\pandas\\core\\resample.py\u001B[0m in \u001B[0;36m_get_grouper\u001B[1;34m(self, obj, validate)\u001B[0m\n\u001B[0;32m   1564\u001B[0m     \u001B[1;32mdef\u001B[0m \u001B[0m_get_grouper\u001B[0m\u001B[1;33m(\u001B[0m\u001B[0mself\u001B[0m\u001B[1;33m,\u001B[0m \u001B[0mobj\u001B[0m\u001B[1;33m,\u001B[0m \u001B[0mvalidate\u001B[0m\u001B[1;33m:\u001B[0m \u001B[0mbool\u001B[0m \u001B[1;33m=\u001B[0m \u001B[1;32mTrue\u001B[0m\u001B[1;33m)\u001B[0m\u001B[1;33m:\u001B[0m\u001B[1;33m\u001B[0m\u001B[1;33m\u001B[0m\u001B[0m\n\u001B[0;32m   1565\u001B[0m         \u001B[1;31m# create the resampler and return our binner\u001B[0m\u001B[1;33m\u001B[0m\u001B[1;33m\u001B[0m\u001B[1;33m\u001B[0m\u001B[0m\n\u001B[1;32m-> 1566\u001B[1;33m         \u001B[0mr\u001B[0m \u001B[1;33m=\u001B[0m \u001B[0mself\u001B[0m\u001B[1;33m.\u001B[0m\u001B[0m_get_resampler\u001B[0m\u001B[1;33m(\u001B[0m\u001B[0mobj\u001B[0m\u001B[1;33m)\u001B[0m\u001B[1;33m\u001B[0m\u001B[1;33m\u001B[0m\u001B[0m\n\u001B[0m\u001B[0;32m   1567\u001B[0m         \u001B[1;32mreturn\u001B[0m \u001B[0mr\u001B[0m\u001B[1;33m.\u001B[0m\u001B[0mbinner\u001B[0m\u001B[1;33m,\u001B[0m \u001B[0mr\u001B[0m\u001B[1;33m.\u001B[0m\u001B[0mgrouper\u001B[0m\u001B[1;33m,\u001B[0m \u001B[0mr\u001B[0m\u001B[1;33m.\u001B[0m\u001B[0mobj\u001B[0m\u001B[1;33m\u001B[0m\u001B[1;33m\u001B[0m\u001B[0m\n\u001B[0;32m   1568\u001B[0m \u001B[1;33m\u001B[0m\u001B[0m\n",
      "\u001B[1;32mc:\\users\\marti\\pycharmprojects\\muu-final-project\\venv\\lib\\site-packages\\pandas\\core\\resample.py\u001B[0m in \u001B[0;36m_get_resampler\u001B[1;34m(self, obj, kind)\u001B[0m\n\u001B[0;32m   1556\u001B[0m             \u001B[1;32mreturn\u001B[0m \u001B[0mTimedeltaIndexResampler\u001B[0m\u001B[1;33m(\u001B[0m\u001B[0mobj\u001B[0m\u001B[1;33m,\u001B[0m \u001B[0mgroupby\u001B[0m\u001B[1;33m=\u001B[0m\u001B[0mself\u001B[0m\u001B[1;33m,\u001B[0m \u001B[0maxis\u001B[0m\u001B[1;33m=\u001B[0m\u001B[0mself\u001B[0m\u001B[1;33m.\u001B[0m\u001B[0maxis\u001B[0m\u001B[1;33m)\u001B[0m\u001B[1;33m\u001B[0m\u001B[1;33m\u001B[0m\u001B[0m\n\u001B[0;32m   1557\u001B[0m \u001B[1;33m\u001B[0m\u001B[0m\n\u001B[1;32m-> 1558\u001B[1;33m         raise TypeError(\n\u001B[0m\u001B[0;32m   1559\u001B[0m             \u001B[1;34m\"Only valid with DatetimeIndex, \"\u001B[0m\u001B[1;33m\u001B[0m\u001B[1;33m\u001B[0m\u001B[0m\n\u001B[0;32m   1560\u001B[0m             \u001B[1;34m\"TimedeltaIndex or PeriodIndex, \"\u001B[0m\u001B[1;33m\u001B[0m\u001B[1;33m\u001B[0m\u001B[0m\n",
      "\u001B[1;31mTypeError\u001B[0m: Only valid with DatetimeIndex, TimedeltaIndex or PeriodIndex, but got an instance of 'Index'"
     ]
    }
   ],
   "source": [
    "df_reduced.groupby(pd.Grouper(key='started_at', freq='10Min', origin='epoch'))"
   ],
   "metadata": {
    "collapsed": false,
    "pycharm": {
     "name": "#%%\n"
    }
   }
  }
 ],
 "metadata": {
  "kernelspec": {
   "display_name": "Python 3",
   "language": "python",
   "name": "python3"
  },
  "language_info": {
   "codemirror_mode": {
    "name": "ipython",
    "version": 2
   },
   "file_extension": ".py",
   "mimetype": "text/x-python",
   "name": "python",
   "nbconvert_exporter": "python",
   "pygments_lexer": "ipython2",
   "version": "2.7.6"
  }
 },
 "nbformat": 4,
 "nbformat_minor": 0
}
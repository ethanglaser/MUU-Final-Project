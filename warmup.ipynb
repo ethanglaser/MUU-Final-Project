{
 "cells": [
  {
   "cell_type": "code",
   "execution_count": 1,
   "metadata": {},
   "outputs": [],
   "source": [
    "import pandas as pd\n",
    "import matplotlib.pyplot as plt"
   ]
  },
  {
   "cell_type": "code",
   "execution_count": 4,
   "metadata": {},
   "outputs": [
    {
     "name": "stderr",
     "output_type": "stream",
     "text": [
      "C:\\ProgramData\\Anaconda3\\lib\\site-packages\\IPython\\core\\interactiveshell.py:3165: DtypeWarning: Columns (7) have mixed types.Specify dtype option on import or set low_memory=False.\n",
      "  has_raised = await self.run_ast_nodes(code_ast.body, cell_name,\n"
     ]
    }
   ],
   "source": [
    "df = pd.read_csv('Data/202107-citibike-tripdata.csv')\n",
    "df['ended_at'] = pd.to_datetime(df['ended_at'])\n",
    "df['started_at'] = pd.to_datetime(df['started_at'])\n",
    "df['duration_mins'] = (df['ended_at'] - df['started_at']).dt.seconds.div(60)"
   ]
  },
  {
   "cell_type": "code",
   "execution_count": 6,
   "metadata": {},
   "outputs": [
    {
     "data": {
      "image/png": "[encoded data removed]",
      "text/plain": [
       "<Figure size 432x288 with 1 Axes>"
      ]
     },
     "metadata": {
      "needs_background": "light"
     },
     "output_type": "display_data"
    }
   ],
   "source": [
    "cutoff=120\n",
    "bins=10\n",
    "plt.figure()\n",
    "plt.title('Histogram of ride durations')\n",
    "plt.ylabel('Frequency')\n",
    "plt.xlabel('Duration (min)')\n",
    "plt.hist(df[df['duration_mins'] < cutoff]['duration_mins'], bins=bins)\n",
    "plt.savefig('Figures/warmup1')"
   ]
  },
  {
   "cell_type": "code",
   "execution_count": 7,
   "metadata": {},
   "outputs": [
    {
     "name": "stdout",
     "output_type": "stream",
     "text": [
      "Expected duration: 16.884468517208443\n",
      "Duration variance: 1055.8471518401905\n",
      "Probability of ride > 20 mins: 0.24976098519810266\n"
     ]
    }
   ],
   "source": [
    "print(\"Expected duration:\", df['duration_mins'].mean())\n",
    "print(\"Duration variance:\", df['duration_mins'].var())\n",
    "print(\"Probability of ride > 20 mins:\", len(df[df['duration_mins'] > 20].index) / len(df.index))"
   ]
  },
  {
   "cell_type": "code",
   "execution_count": 8,
   "metadata": {},
   "outputs": [
    {
     "name": "stdout",
     "output_type": "stream",
     "text": [
      "Probability of ride > 20 mins given member: 0.19422869031097786\n"
     ]
    }
   ],
   "source": [
    "temp_df = df[df['member_casual'] == 'member']\n",
    "print(\"Probability of ride > 20 mins given member:\", len(temp_df[temp_df['duration_mins'] > 20].index) / len(temp_df.index))"
   ]
  },
  {
   "cell_type": "code",
   "execution_count": 9,
   "metadata": {},
   "outputs": [
    {
     "name": "stdout",
     "output_type": "stream",
     "text": [
      "Probability of being member given > 25 mins ride: 0.4828903995346324\n"
     ]
    }
   ],
   "source": [
    "temp_df = df[df['duration_mins'] > 25]\n",
    "print(\"Probability of being member given > 25 mins ride:\", len(temp_df[temp_df['member_casual'] == 'member'].index) / len(temp_df.index))"
   ]
  },
  {
   "cell_type": "code",
   "execution_count": 17,
   "metadata": {},
   "outputs": [
    {
     "data": {
      "text/html": [
       "<div>\n",
       "<style scoped>\n",
       "    .dataframe tbody tr th:only-of-type {\n",
       "        vertical-align: middle;\n",
       "    }\n",
       "\n",
       "    .dataframe tbody tr th {\n",
       "        vertical-align: top;\n",
       "    }\n",
       "\n",
       "    .dataframe thead th {\n",
       "        text-align: right;\n",
       "    }\n",
       "</style>\n",
       "<table border=\"1\" class=\"dataframe\">\n",
       "  <thead>\n",
       "    <tr style=\"text-align: right;\">\n",
       "      <th></th>\n",
       "      <th>ride_id</th>\n",
       "      <th>started_at</th>\n",
       "      <th>ended_at</th>\n",
       "      <th>start_station_name</th>\n",
       "      <th>start_station_id</th>\n",
       "      <th>end_station_name</th>\n",
       "      <th>end_station_id</th>\n",
       "    </tr>\n",
       "  </thead>\n",
       "  <tbody>\n",
       "    <tr>\n",
       "      <th>0</th>\n",
       "      <td>247BA541A9674BF3</td>\n",
       "      <td>2021-07-09 16:05:36</td>\n",
       "      <td>2021-07-09 16:18:09</td>\n",
       "      <td>5 Ave &amp; E 93 St</td>\n",
       "      <td>7372.10</td>\n",
       "      <td>Frederick Douglass Blvd &amp; W 117 St</td>\n",
       "      <td>7688.12</td>\n",
       "    </tr>\n",
       "    <tr>\n",
       "      <th>1</th>\n",
       "      <td>125C9ACA270A5E2D</td>\n",
       "      <td>2021-07-11 16:23:35</td>\n",
       "      <td>2021-07-11 16:29:07</td>\n",
       "      <td>5 Ave &amp; E 93 St</td>\n",
       "      <td>7372.10</td>\n",
       "      <td>E 88 St &amp; Park Ave</td>\n",
       "      <td>7293.10</td>\n",
       "    </tr>\n",
       "    <tr>\n",
       "      <th>2</th>\n",
       "      <td>2E26264BCC15BA05</td>\n",
       "      <td>2021-07-23 06:22:40</td>\n",
       "      <td>2021-07-23 06:36:13</td>\n",
       "      <td>34 St &amp; 38 Ave</td>\n",
       "      <td>6453.02</td>\n",
       "      <td>McGuinness Blvd &amp; Eagle St</td>\n",
       "      <td>5977.01</td>\n",
       "    </tr>\n",
       "    <tr>\n",
       "      <th>3</th>\n",
       "      <td>A56D23A088563424</td>\n",
       "      <td>2021-07-05 16:08:10</td>\n",
       "      <td>2021-07-05 16:36:00</td>\n",
       "      <td>Lenox Ave &amp; W 111 St</td>\n",
       "      <td>7602.05</td>\n",
       "      <td>5 Ave &amp; E 78 St</td>\n",
       "      <td>7161.08</td>\n",
       "    </tr>\n",
       "    <tr>\n",
       "      <th>4</th>\n",
       "      <td>1451F4BB884C5335</td>\n",
       "      <td>2021-07-26 12:28:57</td>\n",
       "      <td>2021-07-26 12:30:21</td>\n",
       "      <td>6 Ave &amp; Broome St</td>\n",
       "      <td>5610.09</td>\n",
       "      <td>6 Ave &amp; Canal St</td>\n",
       "      <td>5500.07</td>\n",
       "    </tr>\n",
       "  </tbody>\n",
       "</table>\n",
       "</div>"
      ],
      "text/plain": [
       "            ride_id          started_at            ended_at  \\\n",
       "0  247BA541A9674BF3 2021-07-09 16:05:36 2021-07-09 16:18:09   \n",
       "1  125C9ACA270A5E2D 2021-07-11 16:23:35 2021-07-11 16:29:07   \n",
       "2  2E26264BCC15BA05 2021-07-23 06:22:40 2021-07-23 06:36:13   \n",
       "3  A56D23A088563424 2021-07-05 16:08:10 2021-07-05 16:36:00   \n",
       "4  1451F4BB884C5335 2021-07-26 12:28:57 2021-07-26 12:30:21   \n",
       "\n",
       "     start_station_name  start_station_id                    end_station_name  \\\n",
       "0       5 Ave & E 93 St           7372.10  Frederick Douglass Blvd & W 117 St   \n",
       "1       5 Ave & E 93 St           7372.10                  E 88 St & Park Ave   \n",
       "2        34 St & 38 Ave           6453.02          McGuinness Blvd & Eagle St   \n",
       "3  Lenox Ave & W 111 St           7602.05                     5 Ave & E 78 St   \n",
       "4     6 Ave & Broome St           5610.09                    6 Ave & Canal St   \n",
       "\n",
       "  end_station_id  \n",
       "0        7688.12  \n",
       "1        7293.10  \n",
       "2        5977.01  \n",
       "3        7161.08  \n",
       "4        5500.07  "
      ]
     },
     "execution_count": 17,
     "metadata": {},
     "output_type": "execute_result"
    }
   ],
   "source": [
    "df_reduced = df[['ride_id', 'started_at', 'ended_at', 'start_station_name', 'start_station_id', 'end_station_name', 'end_station_id']]\n",
    "df_reduced.head()"
   ]
  },
  {
   "cell_type": "code",
   "execution_count": 27,
   "metadata": {},
   "outputs": [
    {
     "data": {
      "text/plain": [
       "ride_id                       object\n",
       "started_at            datetime64[ns]\n",
       "ended_at              datetime64[ns]\n",
       "start_station_name            object\n",
       "start_station_id             float64\n",
       "end_station_name              object\n",
       "end_station_id                object\n",
       "dtype: object"
      ]
     },
     "execution_count": 27,
     "metadata": {},
     "output_type": "execute_result"
    }
   ],
   "source": [
    "df_reduced.dtypes"
   ]
  },
  {
   "cell_type": "code",
   "execution_count": 35,
   "metadata": {},
   "outputs": [
    {
     "ename": "ValueError",
     "evalue": "The truth value of a Series is ambiguous. Use a.empty, a.bool(), a.item(), a.any() or a.all().",
     "output_type": "error",
     "traceback": [
      "\u001b[1;31m---------------------------------------------------------------------------\u001b[0m",
      "\u001b[1;31mValueError\u001b[0m                                Traceback (most recent call last)",
      "\u001b[1;32m<ipython-input-35-0980663211e5>\u001b[0m in \u001b[0;36m<module>\u001b[1;34m\u001b[0m\n\u001b[1;32m----> 1\u001b[1;33m df_reduced[(df_reduced['start_station_id'] == 6912.01 or \n\u001b[0m\u001b[0;32m      2\u001b[0m            df_reduced['start_station_id'] == 5980.07)]\n",
      "\u001b[1;32mC:\\ProgramData\\Anaconda3\\lib\\site-packages\\pandas\\core\\generic.py\u001b[0m in \u001b[0;36m__nonzero__\u001b[1;34m(self)\u001b[0m\n\u001b[0;32m   1440\u001b[0m     \u001b[1;33m@\u001b[0m\u001b[0mfinal\u001b[0m\u001b[1;33m\u001b[0m\u001b[1;33m\u001b[0m\u001b[0m\n\u001b[0;32m   1441\u001b[0m     \u001b[1;32mdef\u001b[0m \u001b[0m__nonzero__\u001b[0m\u001b[1;33m(\u001b[0m\u001b[0mself\u001b[0m\u001b[1;33m)\u001b[0m\u001b[1;33m:\u001b[0m\u001b[1;33m\u001b[0m\u001b[1;33m\u001b[0m\u001b[0m\n\u001b[1;32m-> 1442\u001b[1;33m         raise ValueError(\n\u001b[0m\u001b[0;32m   1443\u001b[0m             \u001b[1;34mf\"The truth value of a {type(self).__name__} is ambiguous. \"\u001b[0m\u001b[1;33m\u001b[0m\u001b[1;33m\u001b[0m\u001b[0m\n\u001b[0;32m   1444\u001b[0m             \u001b[1;34m\"Use a.empty, a.bool(), a.item(), a.any() or a.all().\"\u001b[0m\u001b[1;33m\u001b[0m\u001b[1;33m\u001b[0m\u001b[0m\n",
      "\u001b[1;31mValueError\u001b[0m: The truth value of a Series is ambiguous. Use a.empty, a.bool(), a.item(), a.any() or a.all()."
     ]
    }
   ],
   "source": [
    "df_reduced[(df_reduced['start_station_id'] == 6912.01 or \n",
    "           df_reduced['start_station_id'] == 5980.07)]"
   ]
  },
  {
   "cell_type": "code",
   "execution_count": 24,
   "metadata": {},
   "outputs": [
    {
     "data": {
      "text/plain": [
       "1488"
      ]
     },
     "execution_count": 24,
     "metadata": {},
     "output_type": "execute_result"
    }
   ],
   "source": [
    "len(pd.unique(df_reduced['start_station_id']))"
   ]
  },
  {
   "cell_type": "code",
   "execution_count": 25,
   "metadata": {},
   "outputs": [
    {
     "data": {
      "text/plain": [
       "6912.01    14254\n",
       "5980.07    13600\n",
       "6140.05    13488\n",
       "5329.03    13311\n",
       "6173.08    12753\n",
       "           ...  \n",
       "8539.02       24\n",
       "7983.04       22\n",
       "6474.02       15\n",
       "8711.02        8\n",
       "7226.03        8\n",
       "Name: start_station_id, Length: 1487, dtype: int64"
      ]
     },
     "execution_count": 25,
     "metadata": {},
     "output_type": "execute_result"
    }
   ],
   "source": [
    "df_reduced['start_station_id'].value_counts()"
   ]
  },
  {
   "cell_type": "code",
   "execution_count": 26,
   "metadata": {},
   "outputs": [
    {
     "data": {
      "text/plain": [
       "6912.01    14264\n",
       "6140.05    13072\n",
       "5980.07    12868\n",
       "5184.08    12020\n",
       "6173.08    11334\n",
       "           ...  \n",
       "5137.11        1\n",
       "6887.03        1\n",
       "JC051          1\n",
       "JC024          1\n",
       "5137.13        1\n",
       "Name: end_station_id, Length: 2595, dtype: int64"
      ]
     },
     "execution_count": 26,
     "metadata": {},
     "output_type": "execute_result"
    }
   ],
   "source": [
    "df_reduced['end_station_id'].value_counts()"
   ]
  },
  {
   "cell_type": "code",
   "execution_count": null,
   "metadata": {},
   "outputs": [],
   "source": []
  }
 ],
 "metadata": {
  "interpreter": {
   "hash": "b3ba2566441a7c06988d0923437866b63cedc61552a5af99d1f4fb67d367b25f"
  },
  "kernelspec": {
   "display_name": "Python 3.8.8 64-bit ('base': conda)",
   "language": "python",
   "name": "python3"
  },
  "language_info": {
   "codemirror_mode": {
    "name": "ipython",
    "version": 3
   },
   "file_extension": ".py",
   "mimetype": "text/x-python",
   "name": "python",
   "nbconvert_exporter": "python",
   "pygments_lexer": "ipython3",
   "version": "3.8.8"
  },
  "orig_nbformat": 4
 },
 "nbformat": 4,
 "nbformat_minor": 2
}

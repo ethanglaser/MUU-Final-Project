{
 "cells": [
  {
   "cell_type": "markdown",
   "metadata": {},
   "source": [
    "# 1"
   ]
  },
  {
   "cell_type": "code",
   "execution_count": 1,
   "metadata": {},
   "outputs": [],
   "source": [
    "import pandas as pd\n",
    "import matplotlib.pyplot as plt\n",
    "from seaborn import lineplot"
   ]
  },
  {
   "cell_type": "code",
   "execution_count": 2,
   "metadata": {},
   "outputs": [
    {
     "name": "stderr",
     "output_type": "stream",
     "text": [
      "C:\\ProgramData\\Anaconda3\\lib\\site-packages\\IPython\\core\\interactiveshell.py:3165: DtypeWarning: Columns (7) have mixed types.Specify dtype option on import or set low_memory=False.\n",
      "  has_raised = await self.run_ast_nodes(code_ast.body, cell_name,\n"
     ]
    },
    {
     "data": {
      "text/plain": [
       "ride_id                       object\n",
       "rideable_type                 object\n",
       "started_at            datetime64[ns]\n",
       "ended_at              datetime64[ns]\n",
       "start_station_name            object\n",
       "start_station_id             float64\n",
       "end_station_name              object\n",
       "end_station_id               float64\n",
       "start_lat                    float64\n",
       "start_lng                    float64\n",
       "end_lat                      float64\n",
       "end_lng                      float64\n",
       "member_casual                 object\n",
       "duration_mins                float64\n",
       "dtype: object"
      ]
     },
     "execution_count": 2,
     "metadata": {},
     "output_type": "execute_result"
    }
   ],
   "source": [
    "df = pd.read_csv('Data/202107-citibike-tripdata.csv')\n",
    "df['start_station_id'] = pd.to_numeric(df['start_station_id'], errors='coerce')\n",
    "df['end_station_id'] = pd.to_numeric(df['end_station_id'], errors='coerce')\n",
    "df['ended_at'] = pd.to_datetime(df['ended_at'])\n",
    "df['started_at'] = pd.to_datetime(df['started_at'])\n",
    "df['duration_mins'] = (df['ended_at'] - df['started_at']).dt.seconds.div(60)\n",
    "df.dtypes"
   ]
  },
  {
   "cell_type": "code",
   "execution_count": 3,
   "metadata": {},
   "outputs": [
    {
     "data": {
      "image/png": "[encoded data removed]",
      "text/plain": [
       "<Figure size 432x288 with 1 Axes>"
      ]
     },
     "metadata": {
      "needs_background": "light"
     },
     "output_type": "display_data"
    }
   ],
   "source": [
    "cutoff=120\n",
    "bins=10\n",
    "plt.figure()\n",
    "plt.title('Histogram of ride durations')\n",
    "plt.ylabel('Frequency')\n",
    "plt.xlabel('Duration (min)')\n",
    "plt.hist(df[df['duration_mins'] < cutoff]['duration_mins'], bins=bins)\n",
    "plt.savefig('Figures/warmup1')"
   ]
  },
  {
   "cell_type": "markdown",
   "metadata": {},
   "source": [
    "# 2"
   ]
  },
  {
   "cell_type": "code",
   "execution_count": 4,
   "metadata": {},
   "outputs": [
    {
     "name": "stdout",
     "output_type": "stream",
     "text": [
      "Expected duration: 16.884468517208443\n",
      "Duration variance: 1055.8471518401905\n",
      "Probability of ride > 20 mins: 0.24976098519810266\n"
     ]
    }
   ],
   "source": [
    "print(\"Expected duration:\", df['duration_mins'].mean())\n",
    "print(\"Duration variance:\", df['duration_mins'].var())\n",
    "print(\"Probability of ride > 20 mins:\", len(df[df['duration_mins'] > 20].index) / len(df.index))"
   ]
  },
  {
   "cell_type": "markdown",
   "metadata": {},
   "source": [
    "# 3"
   ]
  },
  {
   "cell_type": "code",
   "execution_count": 5,
   "metadata": {},
   "outputs": [
    {
     "name": "stdout",
     "output_type": "stream",
     "text": [
      "Probability of ride > 20 mins given member: 0.19422869031097786\n"
     ]
    }
   ],
   "source": [
    "temp_df = df[df['member_casual'] == 'member']\n",
    "print(\"Probability of ride > 20 mins given member:\", len(temp_df[temp_df['duration_mins'] > 20].index) / len(temp_df.index))"
   ]
  },
  {
   "cell_type": "markdown",
   "metadata": {},
   "source": [
    "# 4"
   ]
  },
  {
   "cell_type": "code",
   "execution_count": 6,
   "metadata": {},
   "outputs": [
    {
     "name": "stdout",
     "output_type": "stream",
     "text": [
      "Probability of being member given > 25 mins ride: 0.4828903995346324\n"
     ]
    }
   ],
   "source": [
    "temp_df = df[df['duration_mins'] > 25]\n",
    "print(\"Probability of being member given > 25 mins ride:\", len(temp_df[temp_df['member_casual'] == 'member'].index) / len(temp_df.index))"
   ]
  },
  {
   "cell_type": "markdown",
   "metadata": {},
   "source": [
    "# Project START\n",
    "## Drop unwanted columns"
   ]
  },
  {
   "cell_type": "code",
   "execution_count": 7,
   "metadata": {},
   "outputs": [
    {
     "data": {
      "text/html": [
       "<div>\n",
       "<style scoped>\n",
       "    .dataframe tbody tr th:only-of-type {\n",
       "        vertical-align: middle;\n",
       "    }\n",
       "\n",
       "    .dataframe tbody tr th {\n",
       "        vertical-align: top;\n",
       "    }\n",
       "\n",
       "    .dataframe thead th {\n",
       "        text-align: right;\n",
       "    }\n",
       "</style>\n",
       "<table border=\"1\" class=\"dataframe\">\n",
       "  <thead>\n",
       "    <tr style=\"text-align: right;\">\n",
       "      <th></th>\n",
       "      <th>ride_id</th>\n",
       "      <th>started_at</th>\n",
       "      <th>ended_at</th>\n",
       "      <th>start_station_id</th>\n",
       "      <th>end_station_id</th>\n",
       "    </tr>\n",
       "  </thead>\n",
       "  <tbody>\n",
       "    <tr>\n",
       "      <th>0</th>\n",
       "      <td>247BA541A9674BF3</td>\n",
       "      <td>2021-07-09 16:05:36</td>\n",
       "      <td>2021-07-09 16:18:09</td>\n",
       "      <td>7372.10</td>\n",
       "      <td>7688.12</td>\n",
       "    </tr>\n",
       "    <tr>\n",
       "      <th>2</th>\n",
       "      <td>2E26264BCC15BA05</td>\n",
       "      <td>2021-07-23 06:22:40</td>\n",
       "      <td>2021-07-23 06:36:13</td>\n",
       "      <td>6453.02</td>\n",
       "      <td>5977.01</td>\n",
       "    </tr>\n",
       "    <tr>\n",
       "      <th>3</th>\n",
       "      <td>A56D23A088563424</td>\n",
       "      <td>2021-07-05 16:08:10</td>\n",
       "      <td>2021-07-05 16:36:00</td>\n",
       "      <td>7602.05</td>\n",
       "      <td>7161.08</td>\n",
       "    </tr>\n",
       "    <tr>\n",
       "      <th>4</th>\n",
       "      <td>1451F4BB884C5335</td>\n",
       "      <td>2021-07-26 12:28:57</td>\n",
       "      <td>2021-07-26 12:30:21</td>\n",
       "      <td>5610.09</td>\n",
       "      <td>5500.07</td>\n",
       "    </tr>\n",
       "    <tr>\n",
       "      <th>6</th>\n",
       "      <td>705C67CE4C430371</td>\n",
       "      <td>2021-07-05 15:47:30</td>\n",
       "      <td>2021-07-05 16:12:06</td>\n",
       "      <td>4526.01</td>\n",
       "      <td>4979.07</td>\n",
       "    </tr>\n",
       "  </tbody>\n",
       "</table>\n",
       "</div>"
      ],
      "text/plain": [
       "            ride_id          started_at            ended_at  start_station_id  \\\n",
       "0  247BA541A9674BF3 2021-07-09 16:05:36 2021-07-09 16:18:09           7372.10   \n",
       "2  2E26264BCC15BA05 2021-07-23 06:22:40 2021-07-23 06:36:13           6453.02   \n",
       "3  A56D23A088563424 2021-07-05 16:08:10 2021-07-05 16:36:00           7602.05   \n",
       "4  1451F4BB884C5335 2021-07-26 12:28:57 2021-07-26 12:30:21           5610.09   \n",
       "6  705C67CE4C430371 2021-07-05 15:47:30 2021-07-05 16:12:06           4526.01   \n",
       "\n",
       "   end_station_id  \n",
       "0         7688.12  \n",
       "2         5977.01  \n",
       "3         7161.08  \n",
       "4         5500.07  \n",
       "6         4979.07  "
      ]
     },
     "execution_count": 7,
     "metadata": {},
     "output_type": "execute_result"
    }
   ],
   "source": [
    "df_reduced = df[['ride_id', 'started_at', 'ended_at', 'start_station_id', 'end_station_id']]\n",
    "df_reduced = df_reduced[(df_reduced['started_at'].dt.weekday != 5) & (df_reduced['started_at'].dt.weekday != 6)]\n",
    "df_reduced.head()"
   ]
  },
  {
   "cell_type": "markdown",
   "metadata": {},
   "source": [
    "## Identify Stations to use"
   ]
  },
  {
   "cell_type": "code",
   "execution_count": 8,
   "metadata": {},
   "outputs": [
    {
     "data": {
      "text/plain": [
       "6140.05    9927\n",
       "5980.07    9577\n",
       "5329.03    9545\n",
       "Name: start_station_id, dtype: int64"
      ]
     },
     "execution_count": 8,
     "metadata": {},
     "output_type": "execute_result"
    }
   ],
   "source": [
    "df_reduced['start_station_id'].value_counts().head(3)"
   ]
  },
  {
   "cell_type": "code",
   "execution_count": 9,
   "metadata": {},
   "outputs": [
    {
     "data": {
      "text/plain": [
       "6140.05    9934\n",
       "5980.07    9845\n",
       "5329.03    9506\n",
       "Name: end_station_id, dtype: int64"
      ]
     },
     "execution_count": 9,
     "metadata": {},
     "output_type": "execute_result"
    }
   ],
   "source": [
    "df_reduced['end_station_id'].value_counts().head(3)"
   ]
  },
  {
   "cell_type": "markdown",
   "metadata": {},
   "source": [
    "### Capacities\n",
    "Capacities taken from [this Citibike page](https://gbfs.citibikenyc.com/gbfs/fr/station_information.json).\n",
    "* Station 6140.05 = 50  \n",
    "* Station 5980.07 = 66  \n",
    "* Station 5329.03 = 31  "
   ]
  },
  {
   "cell_type": "markdown",
   "metadata": {},
   "source": [
    "## Break stations up into start and end. Set time column to relevant time. Set values to -1 for leave and +1 for arrive"
   ]
  },
  {
   "cell_type": "code",
   "execution_count": 10,
   "metadata": {},
   "outputs": [
    {
     "name": "stdout",
     "output_type": "stream",
     "text": [
      "6140.05: (9927, 4) 5980.07: (9577, 4) 5329.03: (9545, 4)\n"
     ]
    }
   ],
   "source": [
    "start_614005 = df_reduced[df_reduced['start_station_id']==6140.05][['ride_id', 'started_at']]\n",
    "start_614005['start_value'] = -1\n",
    "start_614005['time'] = start_614005['started_at']\n",
    "\n",
    "start_598007 = df_reduced[df_reduced['start_station_id']==5980.07][['ride_id', 'started_at']]\n",
    "start_598007['start_value'] = -1\n",
    "start_598007['time'] = start_598007['started_at']\n",
    "\n",
    "start_532903 = df_reduced[df_reduced['start_station_id']==5329.03][['ride_id', 'started_at']]\n",
    "start_532903['start_value'] = -1\n",
    "start_532903['time'] = start_532903['started_at']\n",
    "\n",
    "print('6140.05:', start_614005.shape, '5980.07:', start_598007.shape, '5329.03:', start_532903.shape)"
   ]
  },
  {
   "cell_type": "code",
   "execution_count": 11,
   "metadata": {},
   "outputs": [
    {
     "name": "stdout",
     "output_type": "stream",
     "text": [
      "6140.05: (9934, 4) 5980.07: (9845, 4) 5329.03: (9506, 4)\n"
     ]
    }
   ],
   "source": [
    "end_614005 = df_reduced[df_reduced['end_station_id']==6140.05][['ride_id', 'ended_at']]\n",
    "end_614005['end_value'] = 1\n",
    "end_614005['time'] = end_614005['ended_at']\n",
    "\n",
    "end_598007 = df_reduced[df_reduced['end_station_id']==5980.07][['ride_id', 'ended_at']]\n",
    "end_598007['end_value'] = 1\n",
    "end_598007['time'] = end_598007['ended_at']\n",
    "\n",
    "end_532903 = df_reduced[df_reduced['end_station_id']==5329.03][['ride_id', 'ended_at']]\n",
    "end_532903['end_value'] = 1\n",
    "end_532903['time'] = end_532903['ended_at']\n",
    "\n",
    "print('6140.05:', end_614005.shape, '5980.07:', end_598007.shape, '5329.03:', end_532903.shape)"
   ]
  },
  {
   "cell_type": "markdown",
   "metadata": {},
   "source": [
    "## Create dataframe with all 5 minute chunks in August"
   ]
  },
  {
   "cell_type": "code",
   "execution_count": 12,
   "metadata": {},
   "outputs": [
    {
     "data": {
      "text/plain": [
       "(8640, 0)"
      ]
     },
     "execution_count": 12,
     "metadata": {},
     "output_type": "execute_result"
    }
   ],
   "source": [
    "times = pd.DataFrame({'time': pd.date_range(\"2021-07-01 00:00:00\", \"2021-07-30 23:59:59\", freq=\"5min\")}).set_index('time')\n",
    "times.shape"
   ]
  },
  {
   "cell_type": "markdown",
   "metadata": {},
   "source": [
    "## Left join times with start and end dataframes to chunk the data"
   ]
  },
  {
   "cell_type": "code",
   "execution_count": 13,
   "metadata": {},
   "outputs": [
    {
     "name": "stdout",
     "output_type": "stream",
     "text": [
      "6140.05: (8640, 1) 5980.07: (8640, 1) 5329.03: (8640, 1)\n"
     ]
    }
   ],
   "source": [
    "start_chunked_614005 = start_614005.set_index('time').sort_values('time').resample(\"5T\").sum()\n",
    "start_chunked_614005 = times.join(start_chunked_614005, on='time').fillna(0)\n",
    "\n",
    "start_chunked_598007 = start_598007.set_index('time').sort_values('time').resample(\"5T\").sum()\n",
    "start_chunked_598007 = times.join(start_chunked_598007, on='time').fillna(0)\n",
    "\n",
    "start_chunked_532903 = start_532903.set_index('time').sort_values('time').resample(\"5T\").sum()\n",
    "start_chunked_532903 = times.join(start_chunked_532903, on='time').fillna(0)\n",
    "\n",
    "print('6140.05:', start_chunked_614005.shape, '5980.07:', start_chunked_598007.shape, '5329.03:', start_chunked_532903.shape)"
   ]
  },
  {
   "cell_type": "code",
   "execution_count": 14,
   "metadata": {},
   "outputs": [
    {
     "name": "stdout",
     "output_type": "stream",
     "text": [
      "6140.05: (8640, 1) 5980.07: (8640, 1) 5329.03: (8640, 1)\n"
     ]
    }
   ],
   "source": [
    "end_chunked_614005 = end_614005.set_index('time').sort_values('time').resample(\"5T\").sum()\n",
    "end_chunked_614005 = times.join(end_chunked_614005, on='time').fillna(0)\n",
    "\n",
    "end_chunked_598007 = end_598007.set_index('time').sort_values('time').resample(\"5T\").sum()\n",
    "end_chunked_598007 = times.join(end_chunked_598007, on='time').fillna(0)\n",
    "\n",
    "end_chunked_532903 = end_532903.set_index('time').sort_values('time').resample(\"5T\").sum()\n",
    "end_chunked_532903 = times.join(end_chunked_532903, on='time').fillna(0)\n",
    "\n",
    "print('6140.05:', end_chunked_614005.shape, '5980.07:', end_chunked_598007.shape, '5329.03:', end_chunked_532903.shape)"
   ]
  },
  {
   "cell_type": "markdown",
   "metadata": {},
   "source": [
    "## Add start and end values for each chunk to get net input/output"
   ]
  },
  {
   "cell_type": "code",
   "execution_count": 15,
   "metadata": {},
   "outputs": [
    {
     "name": "stdout",
     "output_type": "stream",
     "text": [
      "6140.05: (8640, 1) 5980.07: (8640, 1) 5329.03: (8640, 1)\n"
     ]
    }
   ],
   "source": [
    "chunked_614005 = start_chunked_614005.join(end_chunked_614005, on='time')\n",
    "chunked_614005['total'] = chunked_614005['start_value'] + chunked_614005['end_value']\n",
    "chunked_614005 = chunked_614005[['total']]\n",
    "\n",
    "chunked_598007 = start_chunked_598007.join(end_chunked_598007, on='time')\n",
    "chunked_598007['total'] = chunked_598007['start_value'] + chunked_598007['end_value']\n",
    "chunked_598007 = chunked_598007[['total']]\n",
    "\n",
    "chunked_532903 = start_chunked_532903.join(end_chunked_532903, on='time')\n",
    "chunked_532903['total'] = chunked_532903['start_value'] + chunked_532903['end_value']\n",
    "chunked_532903 = chunked_532903[['total']]\n",
    "\n",
    "print('6140.05:', chunked_614005.shape, '5980.07:', chunked_598007.shape, '5329.03:', chunked_532903.shape)"
   ]
  },
  {
   "cell_type": "markdown",
   "metadata": {},
   "source": [
    "## Write CSVs"
   ]
  },
  {
   "cell_type": "code",
   "execution_count": 16,
   "metadata": {},
   "outputs": [],
   "source": [
    "chunked_614005.to_csv('processed_station_614005.csv')\n",
    "chunked_598007.to_csv('processed_station_598007.csv')\n",
    "chunked_532903.to_csv('processed_station_532903.csv')"
   ]
  },
  {
   "cell_type": "markdown",
   "metadata": {},
   "source": [
    "## Sanity plot "
   ]
  },
  {
   "cell_type": "code",
   "execution_count": 17,
   "metadata": {},
   "outputs": [
    {
     "data": {
      "text/plain": [
       "<AxesSubplot:xlabel='time'>"
      ]
     },
     "execution_count": 17,
     "metadata": {},
     "output_type": "execute_result"
    },
    {
     "data": {
      "image/png": "[encoded data removed]",
      "text/plain": [
       "<Figure size 432x288 with 1 Axes>"
      ]
     },
     "metadata": {
      "needs_background": "light"
     },
     "output_type": "display_data"
    }
   ],
   "source": [
    "lineplot(data=chunked_614005)"
   ]
  }
 ],
 "metadata": {
  "interpreter": {
   "hash": "b3ba2566441a7c06988d0923437866b63cedc61552a5af99d1f4fb67d367b25f"
  },
  "kernelspec": {
   "display_name": "Python 3",
   "language": "python",
   "name": "python3"
  },
  "language_info": {
   "codemirror_mode": {
    "name": "ipython",
    "version": 3
   },
   "file_extension": ".py",
   "mimetype": "text/x-python",
   "name": "python",
   "nbconvert_exporter": "python",
   "pygments_lexer": "ipython3",
   "version": "3.8.8"
  }
 },
 "nbformat": 4,
 "nbformat_minor": 2
}

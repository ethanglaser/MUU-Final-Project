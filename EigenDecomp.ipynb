{
 "cells": [
  {
   "cell_type": "code",
   "execution_count": 1,
   "id": "40362eda",
   "metadata": {},
   "outputs": [],
   "source": [
    "import numpy as np\n",
    "import pandas as pd"
   ]
  },
  {
   "cell_type": "code",
   "execution_count": 5,
   "id": "d824db19",
   "metadata": {},
   "outputs": [],
   "source": [
    "files = ['5329.03_evening.csv',\n",
    "'5329.03_morning.csv',\n",
    "'5980.07_evening.csv',\n",
    "'5980.07_morning.csv',\n",
    "'6140.05_evening.csv',\n",
    "'6140.05_morning.csv']\n",
    "prefix = './Stationary_Distributions/'"
   ]
  },
  {
   "cell_type": "code",
   "execution_count": 18,
   "id": "05c643f0",
   "metadata": {},
   "outputs": [],
   "source": [
    "def get_stationary_distribution(markov):\n",
    "    dim = np.shape(markov)[0]\n",
    "    A = (markov - np.identity(dim)).T\n",
    "    A = np.append(A, np.ones([1, dim]), axis=0)\n",
    "    B = np.zeros(dim + 1)\n",
    "    B[-1] = 1\n",
    "    return np.linalg.lstsq(A, B)[0]"
   ]
  },
  {
   "cell_type": "code",
   "execution_count": 19,
   "id": "0a90afd0",
   "metadata": {
    "scrolled": false
   },
   "outputs": [
    {
     "name": "stdout",
     "output_type": "stream",
     "text": [
      "file: 5329.03_evening.csv\n",
      "True\n",
      "file: 5329.03_morning.csv\n",
      "True\n",
      "file: 5980.07_evening.csv\n",
      "True\n",
      "file: 5980.07_morning.csv\n",
      "True\n",
      "file: 6140.05_evening.csv\n",
      "True\n",
      "file: 6140.05_morning.csv\n",
      "True\n"
     ]
    },
    {
     "name": "stderr",
     "output_type": "stream",
     "text": [
      "<ipython-input-18-c35398fb4677>:7: FutureWarning: `rcond` parameter will change to the default of machine precision times ``max(M, N)`` where M and N are the input matrix dimensions.\n",
      "To use the future default and silence this warning we advise to pass `rcond=None`, to keep using the old, explicitly pass `rcond=-1`.\n",
      "  return np.linalg.lstsq(A, B)[0]\n"
     ]
    }
   ],
   "source": [
    "for file in files:\n",
    "    path = prefix + file\n",
    "    Q = np.loadtxt(path, delimiter=',')\n",
    "    evals, evecs = np.linalg.eig(Q.T)\n",
    "    evec1 = evecs[:,np.isclose(evals, 1)]\n",
    "    evec1 = evec1[:,0]\n",
    "    stationary = evec1 / evec1.sum()\n",
    "    #eigs finds complex eigenvalues and eigenvectors, so you'll want the real part.\n",
    "    stationary = stationary.real\n",
    "    print('file:', file)\n",
    "#     print(stationary)\n",
    "    stationary_2 = get_stationary_distribution(Q)\n",
    "    print(np.all(np.isclose(stationary, stationary_2)))"
   ]
  },
  {
   "cell_type": "code",
   "execution_count": null,
   "id": "1c55833f",
   "metadata": {},
   "outputs": [],
   "source": []
  },
  {
   "cell_type": "code",
   "execution_count": null,
   "id": "8bde6a70",
   "metadata": {},
   "outputs": [],
   "source": [
    "\n",
    "\n",
    "#note: the matrix is row stochastic.\n",
    "#A markov chain transition will correspond to left multiplying by a row vector.\n",
    "Q = np.array([\n",
    "    [.95, .05, 0., 0.],\n",
    "    [0., 0.9, 0.09, 0.01],\n",
    "    [0., 0.05, 0.9, 0.05],\n",
    "    [0.8, 0., 0.05, 0.15]])\n",
    "\n",
    "#We have to transpose so that Markov transitions correspond to right multiplying by a column vector.  np.linalg.eig finds right eigenvectors.\n",
    "evals, evecs = np.linalg.eig(Q.T)\n",
    "evec1 = evecs[:,np.isclose(evals, 1)]\n",
    "\n",
    "#Since np.isclose will return an array, we've indexed with an array\n",
    "#so we still have our 2nd axis.  Get rid of it, since it's only size 1.\n",
    "evec1 = evec1[:,0]\n",
    "\n",
    "stationary = evec1 / evec1.sum()\n",
    "\n",
    "#eigs finds complex eigenvalues and eigenvectors, so you'll want the real part.\n",
    "stationary = stationary.real"
   ]
  }
 ],
 "metadata": {
  "kernelspec": {
   "display_name": "Python 3",
   "language": "python",
   "name": "python3"
  },
  "language_info": {
   "codemirror_mode": {
    "name": "ipython",
    "version": 3
   },
   "file_extension": ".py",
   "mimetype": "text/x-python",
   "name": "python",
   "nbconvert_exporter": "python",
   "pygments_lexer": "ipython3",
   "version": "3.8.8"
  }
 },
 "nbformat": 4,
 "nbformat_minor": 5
}
